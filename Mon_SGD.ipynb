{
  "nbformat": 4,
  "nbformat_minor": 0,
  "metadata": {
    "colab": {
      "name": "Mon_SGD.ipynb",
      "provenance": [],
      "authorship_tag": "ABX9TyN1POFiGMpGTP5pvqM8J/YH",
      "include_colab_link": true
    },
    "kernelspec": {
      "name": "python3",
      "display_name": "Python 3"
    },
    "language_info": {
      "name": "python"
    }
  },
  "cells": [
    {
      "cell_type": "markdown",
      "metadata": {
        "id": "view-in-github",
        "colab_type": "text"
      },
      "source": [
        "<a href=\"https://colab.research.google.com/github/fsajad9/SGD_monotone/blob/main/Mon_SGD.ipynb\" target=\"_parent\"><img src=\"https://colab.research.google.com/assets/colab-badge.svg\" alt=\"Open In Colab\"/></a>"
      ]
    },
    {
      "cell_type": "code",
      "metadata": {
        "id": "PtwCCMszV4a6"
      },
      "source": [
        "import numpy as np\n",
        "from matplotlib import pyplot as plt\n",
        "np.random.seed(42)"
      ],
      "execution_count": 5,
      "outputs": []
    },
    {
      "cell_type": "code",
      "metadata": {
        "id": "jh0cMA-IV_fO"
      },
      "source": [
        "n=1000\n",
        "d=2000\n",
        "xx=np.random.rand(d,n)\n",
        "x11=np.ones((1,n),dtype=float)\n",
        "x=np.concatenate((x11,xx))\n",
        "w_0=2*np.ones((1,d+1))\n",
        "eps=np.random.randn(1,n)\n",
        "y=np.dot(w_0,x)+.1*eps"
      ],
      "execution_count": 70,
      "outputs": []
    },
    {
      "cell_type": "code",
      "metadata": {
        "id": "dtT7dkPIWBuo"
      },
      "source": [
        "class Mon:\n",
        "  def __init__(self,x,y,w):\n",
        "    self.x=x\n",
        "    self.y=y\n",
        "    self.w=w\n",
        "  def error(self):\n",
        "    return np.dot(self.w,self.x)-self.y  \n",
        "\n",
        "  def loss(self):\n",
        "    return (self.error()**2).mean()\n",
        "  def grad_w(self):\n",
        "    return (2*self.x*self.error()).mean(1)\n",
        "\n",
        "  def new_point(self,alp):\n",
        "    return self.w-alp*self.grad_w()\n",
        "\n"
      ],
      "execution_count": 71,
      "outputs": []
    },
    {
      "cell_type": "code",
      "metadata": {
        "id": "_sgC7Gh4aAM9"
      },
      "source": [
        "\n",
        "def ste_siz(x,y,w,beta,c,loss,grad_w,alpha):\n",
        "\n",
        "  w1=w-alpha*grad_w\n",
        "  yhat=np.dot(w1,x)\n",
        "  error=yhat-y\n",
        "  loss_new=(error**2).mean()\n",
        "  no=np.linalg.norm(grad_w)\n",
        "  for i in range(10):\n",
        "    if loss_new<=loss-alpha*c*no**2:\n",
        "      break\n",
        "    alpha=alpha*beta\n",
        "    w1=w-alpha*grad_w\n",
        "    error=np.dot(w1,x)-y\n",
        "    loss_new=(error**2).mean()\n",
        "  alpha=min(1,alpha)  \n",
        "  return alpha    "
      ],
      "execution_count": 72,
      "outputs": []
    },
    {
      "cell_type": "code",
      "metadata": {
        "colab": {
          "base_uri": "https://localhost:8080/",
          "height": 279
        },
        "id": "zHNypsgDWEGJ",
        "outputId": "757981c6-839f-492a-ca96-d7a0588d2430"
      },
      "source": [
        "w=np.random.randn(1,d+1)\n",
        "n_epoch=500\n",
        "losses=[]\n",
        "c=.1\n",
        "beta=.75\n",
        "alpha=.01\n",
        "for i in range(n_epoch):\n",
        "  m1=np.random.randint(0,n,int(n/2))\n",
        "  x1=x[:,m1]\n",
        "  y1=y[:,m1]\n",
        "  mm=Mon(x1,y1,w)\n",
        "  los=mm.loss()\n",
        "  losses.append(los)\n",
        "  grad=mm.grad_w()\n",
        "  alp=ste_siz(x,y,w,beta,c,los,grad,alpha)\n",
        "  w=mm.new_point(alp)\n",
        "\n",
        "  alpha=2*alp\n",
        "losses=losses/((losses[0]))  \n",
        "plt.plot(losses)\n",
        "plt.yscale('log')\n",
        "plt.ylabel('Loss Function')\n",
        "plt.xlabel('Ite')\n",
        "plt.show()\n"
      ],
      "execution_count": 78,
      "outputs": [
        {
          "output_type": "display_data",
          "data": {
            "image/png": "[encoded data removed]",
            "text/plain": [
              "<Figure size 432x288 with 1 Axes>"
            ]
          },
          "metadata": {
            "needs_background": "light"
          }
        }
      ]
    },
    {
      "cell_type": "code",
      "metadata": {
        "colab": {
          "base_uri": "https://localhost:8080/"
        },
        "id": "JnGusCmHcOXl",
        "outputId": "4dabdf39-6d76-4687-be88-911a59e6a85f"
      },
      "source": [
        "min(losses)"
      ],
      "execution_count": 79,
      "outputs": [
        {
          "output_type": "execute_result",
          "data": {
            "text/plain": [
              "3.320488179879859e-05"
            ]
          },
          "metadata": {},
          "execution_count": 79
        }
      ]
    },
    {
      "cell_type": "code",
      "metadata": {
        "id": "loP5tJtfcPwl"
      },
      "source": [
        ""
      ],
      "execution_count": null,
      "outputs": []
    }
  ]
}