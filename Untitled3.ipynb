{
  "nbformat": 4,
  "nbformat_minor": 0,
  "metadata": {
    "colab": {
      "name": "Untitled3.ipynb",
      "private_outputs": true,
      "provenance": [],
      "authorship_tag": "ABX9TyOji9adICDBWsg5R30LhZK3",
      "include_colab_link": true
    },
    "kernelspec": {
      "name": "python3",
      "display_name": "Python 3"
    },
    "language_info": {
      "name": "python"
    },
    "accelerator": "GPU"
  },
  "cells": [
    {
      "cell_type": "markdown",
      "metadata": {
        "id": "view-in-github",
        "colab_type": "text"
      },
      "source": [
        "<a href=\"https://colab.research.google.com/github/fsajad9/SGD_monotone/blob/main/Untitled3.ipynb\" target=\"_parent\"><img src=\"https://colab.research.google.com/assets/colab-badge.svg\" alt=\"Open In Colab\"/></a>"
      ]
    },
    {
      "cell_type": "code",
      "metadata": {
        "id": "Ggqh5Hijg-YX"
      },
      "source": [
        "import numpy as np\n",
        "from matplotlib import pyplot as plt\n",
        "np.random.seed(42)"
      ],
      "execution_count": null,
      "outputs": []
    },
    {
      "cell_type": "code",
      "metadata": {
        "id": "Ja1jQRGpg-g3"
      },
      "source": [
        "n=5000\n",
        "d=20\n",
        "xx=np.random.rand(d,n)\n",
        "x11=np.ones((1,n),dtype=float)\n",
        "x=np.concatenate((x11,xx))\n",
        "w_0=2*np.ones((1,d+1))\n",
        "eps=np.random.randn(1,n)\n",
        "y=np.dot(w_0,x)+.1*eps\n"
      ],
      "execution_count": null,
      "outputs": []
    },
    {
      "cell_type": "code",
      "metadata": {
        "id": "E8hOn7vmmsNU"
      },
      "source": [
        "class Mon:\n",
        "  def __init__(self,x,y,w):\n",
        "    self.x=x\n",
        "    self.y=y\n",
        "    self.w=w\n",
        "  def error(self):\n",
        "    return np.dot(self.w,self.x)-self.y  \n",
        "\n",
        "  def loss(self):\n",
        "    return (self.error()**2).mean()\n",
        "  def grad_w(self):\n",
        "    return (2*self.x*self.error()).mean(1)\n",
        "\n",
        "  def new_point(self,alp):\n",
        "    return self.w-alp*self.grad_w()  "
      ],
      "execution_count": null,
      "outputs": []
    },
    {
      "cell_type": "code",
      "metadata": {
        "id": "VCT_NhxBOCh1"
      },
      "source": [
        "w=np.random.randn(1,d+1)\n",
        "n_epoch=10000\n",
        "losses=[]\n",
        "for i in range(n_epoch):\n",
        "  m1=np.random.randint(0,n,int(n/20))\n",
        "  x1=x[:,m1]\n",
        "  y1=y[:,m1]\n",
        "  mm=Mon(x1,y1,w)\n",
        "  los=mm.loss()\n",
        "  losses.append(los)\n",
        "  alp=.02\n",
        "  w=mm.new_point(alp)\n",
        "plt.plot(losses)\n",
        "plt.yscale('log')\n",
        "plt.ylabel('Loss Function')\n",
        "plt.xlabel('Ite')\n",
        "plt.show()"
      ],
      "execution_count": null,
      "outputs": []
    }
  ]
}