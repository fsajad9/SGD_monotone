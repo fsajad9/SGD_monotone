{
  "nbformat": 4,
  "nbformat_minor": 0,
  "metadata": {
    "accelerator": "GPU",
    "colab": {
      "name": "CG.ipynb",
      "provenance": [],
      "authorship_tag": "ABX9TyM0B06LKM3SwBi39nvfms63",
      "include_colab_link": true
    },
    "kernelspec": {
      "display_name": "Python 3",
      "name": "python3"
    },
    "language_info": {
      "name": "python"
    }
  },
  "cells": [
    {
      "cell_type": "markdown",
      "metadata": {
        "id": "view-in-github",
        "colab_type": "text"
      },
      "source": [
        "<a href=\"https://colab.research.google.com/github/fsajad9/SGD_monotone/blob/main/CG.ipynb\" target=\"_parent\"><img src=\"https://colab.research.google.com/assets/colab-badge.svg\" alt=\"Open In Colab\"/></a>"
      ]
    },
    {
      "cell_type": "code",
      "metadata": {
        "id": "xktcj9UEKHdl"
      },
      "source": [
        "import numpy as np\n",
        "from matplotlib import pyplot as plt"
      ],
      "execution_count": 1,
      "outputs": []
    },
    {
      "cell_type": "code",
      "metadata": {
        "id": "k0Bx84NdQDJ4"
      },
      "source": [
        "class Sajad:\n",
        "  def __init__(self,x,y,w,b):\n",
        "    self.x=x\n",
        "    self.y=y\n",
        "    self.w=w\n",
        "    self.b=b\n",
        "  def error(self):\n",
        "    return self.x*self.w+self.b-self.y\n",
        "  def loss(self):\n",
        "    return (self.error()*self.error()).mean()\n",
        "  def grad_b(self):\n",
        "    return 2*self.error().mean()  \n",
        "  def grad_w(self):\n",
        "    return 2*(self.x*self.error()).mean()\n",
        "  def con(self):\n",
        "    u=[self.grad_w(),self.grad_b()]\n",
        "    return np.linalg.norm(u)\n",
        "\n",
        "  def step(self):\n",
        "    return self.loss()/(self.con()**2+.1)\n",
        "  def new_step_w(self):\n",
        "    return self.w-self.step()*self.grad_w()\n",
        "  def new_step_b(self):\n",
        "    return self.b-self.step()*self.grad_b()\n",
        "        \n",
        "    \n",
        "\n",
        "\n",
        "\n",
        "\n",
        "  "
      ],
      "execution_count": 2,
      "outputs": []
    },
    {
      "cell_type": "code",
      "metadata": {
        "id": "Qe92CkAbREuH"
      },
      "source": [
        "\n",
        "def SGD(w,b,x,y,n,n_epoch):\n",
        "  losses=[]\n",
        "  for i in range(n_epoch):\n",
        "    ind=np.random.randint(0,n,8)\n",
        "    x1=x[ind]\n",
        "    y1=y[ind]\n",
        "    saj=Sajad(x1,y1,w,b)\n",
        "    error=saj.error()\n",
        "    loss=saj.loss()\n",
        "    losses.append(loss)\n",
        "    w=saj.new_step_w()\n",
        "    b=saj.new_step_b()\n",
        "  return losses,w,b  \n",
        "\n",
        "\n",
        "\n"
      ],
      "execution_count": 3,
      "outputs": []
    },
    {
      "cell_type": "code",
      "metadata": {
        "colab": {
          "base_uri": "https://localhost:8080/",
          "height": 283
        },
        "id": "aEePsso5LUiC",
        "outputId": "0a10818c-b58e-45b3-bb0a-f9505302e873"
      },
      "source": [
        "n=100\n",
        "w0=1\n",
        "b0=2\n",
        "n_epoch=50\n",
        "x=np.random.rand(n,1)\n",
        "ep=np.random.randn(n,1)\n",
        "y=b0+w0*x+.1*ep\n",
        "w=np.random.randn(1)\n",
        "b=np.random.randn(1)\n",
        "\n",
        "los,w,b=SGD(w,b,x,y,n,n_epoch)\n",
        "plt.plot(los)"
      ],
      "execution_count": 4,
      "outputs": [
        {
          "output_type": "execute_result",
          "data": {
            "text/plain": [
              "[<matplotlib.lines.Line2D at 0x7f473a8d2550>]"
            ]
          },
          "metadata": {},
          "execution_count": 4
        },
        {
          "output_type": "display_data",
          "data": {
            "image/png": "[encoded data removed]",
            "text/plain": [
              "<Figure size 432x288 with 1 Axes>"
            ]
          },
          "metadata": {
            "needs_background": "light"
          }
        }
      ]
    },
    {
      "cell_type": "code",
      "metadata": {
        "colab": {
          "base_uri": "https://localhost:8080/"
        },
        "id": "PmOuetEXM-UJ",
        "outputId": "476684db-9806-4ae0-9e0a-db1cd7911d8f"
      },
      "source": [
        "min(los)"
      ],
      "execution_count": 192,
      "outputs": [
        {
          "output_type": "execute_result",
          "data": {
            "text/plain": [
              "0.0033108605681389583"
            ]
          },
          "metadata": {},
          "execution_count": 192
        }
      ]
    },
    {
      "cell_type": "code",
      "metadata": {
        "id": "dtwRJYiZaJGA"
      },
      "source": [
        ""
      ],
      "execution_count": null,
      "outputs": []
    }
  ]
}